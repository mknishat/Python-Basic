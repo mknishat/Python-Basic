{
  "nbformat": 4,
  "nbformat_minor": 0,
  "metadata": {
    "colab": {
      "name": "DA_P_Apr22_1_Basic.ipynb",
      "provenance": []
    },
    "kernelspec": {
      "name": "python3",
      "display_name": "Python 3"
    },
    "language_info": {
      "name": "python"
    }
  },
  "cells": [
    {
      "cell_type": "markdown",
      "source": [
        "# Basic Python Programming in Google Colab"
      ],
      "metadata": {
        "id": "u_tilQTkKB9-"
      }
    },
    {
      "cell_type": "markdown",
      "source": [
        "*Credit: Dr. Chase Murray,\n",
        "  Assistant Professor,\n",
        "  Department of Industrial and Systems Engineering,\n",
        "  State University of New York at Buffalo*"
      ],
      "metadata": {
        "id": "19zIC5_JLJet"
      }
    },
    {
      "cell_type": "markdown",
      "source": [
        "# ```1. Setting Variables```\n"
      ],
      "metadata": {
        "id": "VFHwpsIEG5dA"
      }
    },
    {
      "cell_type": "code",
      "execution_count": 30,
      "metadata": {
        "id": "LAxU_-K-Svq5"
      },
      "outputs": [],
      "source": [
        "x = 3\n",
        "y = 3.0\n",
        "z = 1.2e4\n",
        "inf = float ('inf ')"
      ]
    },
    {
      "cell_type": "markdown",
      "source": [
        "Note: x, y, z, and inf are scalar values."
      ],
      "metadata": {
        "id": "kujvwVfTK1CW"
      }
    },
    {
      "cell_type": "markdown",
      "source": [
        "## 2. PyThoN iS CAse sEnsiTiVe"
      ],
      "metadata": {
        "id": "Is4rRBQJKXfd"
      }
    },
    {
      "cell_type": "code",
      "source": [
        "a = 2\n",
        "A = 3.4"
      ],
      "metadata": {
        "id": "ovx7Gj5eKjBP"
      },
      "execution_count": 31,
      "outputs": []
    },
    {
      "cell_type": "markdown",
      "source": [
        "a and A are two di\u000berent variables"
      ],
      "metadata": {
        "id": "PyyzxEOlM-nz"
      }
    },
    {
      "cell_type": "markdown",
      "source": [
        "## 3. Defining Variables"
      ],
      "metadata": {
        "id": "LKJEHo51NFak"
      }
    },
    {
      "cell_type": "code",
      "source": [
        "a=2\n",
        "a1=2\n",
        "a_1=2\n",
        "aB=2\n",
        "myLongVariableName=2"
      ],
      "metadata": {
        "id": "x-iwFD-oNQia"
      },
      "execution_count": 32,
      "outputs": []
    },
    {
      "cell_type": "markdown",
      "source": [
        "However, these won't work:\n",
        "*   a 1 (can't have a space)\n",
        "*   1a (can't start with a number)\n",
        "*   a-1 (can't use a dash or other special character besides underscore)\n",
        "\n",
        "Unlike some other languages, Python does not require you to declare variables. For example, in C you might have to explicitly declare x as a float:\n",
        "\n",
        "*   float x\n",
        "\n",
        "\n"
      ],
      "metadata": {
        "id": "eDrCJweaNsIz"
      }
    },
    {
      "cell_type": "markdown",
      "source": [
        "Python recognizes the following data types:\n",
        "\n",
        "*   string\n",
        "*   float\n",
        "*   int\n",
        "*   boolean"
      ],
      "metadata": {
        "id": "7BEaVEMrPSlU"
      }
    },
    {
      "cell_type": "code",
      "source": [
        "a = 9.2\n",
        "str (a)"
      ],
      "metadata": {
        "id": "7KEuhKFbO-WC",
        "colab": {
          "base_uri": "https://localhost:8080/",
          "height": 36
        },
        "outputId": "e183da51-83d4-4827-9506-fad4b6335301"
      },
      "execution_count": 33,
      "outputs": [
        {
          "output_type": "execute_result",
          "data": {
            "text/plain": [
              "'9.2'"
            ],
            "application/vnd.google.colaboratory.intrinsic+json": {
              "type": "string"
            }
          },
          "metadata": {},
          "execution_count": 33
        }
      ]
    },
    {
      "cell_type": "code",
      "source": [
        "float (a)"
      ],
      "metadata": {
        "colab": {
          "base_uri": "https://localhost:8080/",
          "height": 0
        },
        "id": "yu5FYWVjZRHA",
        "outputId": "edad50b1-4274-4c23-dc5f-203292103aba"
      },
      "execution_count": 34,
      "outputs": [
        {
          "output_type": "execute_result",
          "data": {
            "text/plain": [
              "9.2"
            ]
          },
          "metadata": {},
          "execution_count": 34
        }
      ]
    },
    {
      "cell_type": "code",
      "source": [
        "int (a)"
      ],
      "metadata": {
        "colab": {
          "base_uri": "https://localhost:8080/",
          "height": 0
        },
        "id": "HmZNkfJ_ZVkY",
        "outputId": "03f7452d-3eb7-4c2a-8add-1669c5446107"
      },
      "execution_count": 35,
      "outputs": [
        {
          "output_type": "execute_result",
          "data": {
            "text/plain": [
              "9"
            ]
          },
          "metadata": {},
          "execution_count": 35
        }
      ]
    },
    {
      "cell_type": "code",
      "source": [
        "bool (a)"
      ],
      "metadata": {
        "colab": {
          "base_uri": "https://localhost:8080/",
          "height": 0
        },
        "id": "rHwynkvKZa-G",
        "outputId": "ba1bc856-b273-4adf-a1c9-5d11563146fc"
      },
      "execution_count": 36,
      "outputs": [
        {
          "output_type": "execute_result",
          "data": {
            "text/plain": [
              "True"
            ]
          },
          "metadata": {},
          "execution_count": 36
        }
      ]
    },
    {
      "cell_type": "code",
      "source": [
        "bool (0)"
      ],
      "metadata": {
        "colab": {
          "base_uri": "https://localhost:8080/",
          "height": 0
        },
        "id": "fLqLZiZGZeA0",
        "outputId": "54506e59-715e-48db-c3f8-2d13208c4ae8"
      },
      "execution_count": 37,
      "outputs": [
        {
          "output_type": "execute_result",
          "data": {
            "text/plain": [
              "False"
            ]
          },
          "metadata": {},
          "execution_count": 37
        }
      ]
    },
    {
      "cell_type": "code",
      "source": [
        "bool (1)"
      ],
      "metadata": {
        "colab": {
          "base_uri": "https://localhost:8080/",
          "height": 0
        },
        "id": "bdSdNNSwZjZr",
        "outputId": "919f0b19-e610-45f1-a32e-4973be5db522"
      },
      "execution_count": 38,
      "outputs": [
        {
          "output_type": "execute_result",
          "data": {
            "text/plain": [
              "True"
            ]
          },
          "metadata": {},
          "execution_count": 38
        }
      ]
    },
    {
      "cell_type": "code",
      "source": [
        "bool ('False ')"
      ],
      "metadata": {
        "colab": {
          "base_uri": "https://localhost:8080/",
          "height": 0
        },
        "id": "WUT33VmEZ6jU",
        "outputId": "c487116e-4dd3-401c-e6d1-95804c0c60ed"
      },
      "execution_count": 39,
      "outputs": [
        {
          "output_type": "execute_result",
          "data": {
            "text/plain": [
              "True"
            ]
          },
          "metadata": {},
          "execution_count": 39
        }
      ]
    },
    {
      "cell_type": "code",
      "source": [
        "bool ( False )"
      ],
      "metadata": {
        "colab": {
          "base_uri": "https://localhost:8080/",
          "height": 0
        },
        "id": "GEhhplJpZ8Sc",
        "outputId": "6d60619b-ad64-4e01-df0b-70441a17444a"
      },
      "execution_count": 40,
      "outputs": [
        {
          "output_type": "execute_result",
          "data": {
            "text/plain": [
              "False"
            ]
          },
          "metadata": {},
          "execution_count": 40
        }
      ]
    },
    {
      "cell_type": "markdown",
      "source": [
        "## 4. Basic Math"
      ],
      "metadata": {
        "id": "0B1ltozLaO5B"
      }
    },
    {
      "cell_type": "code",
      "source": [
        "# Addition\n",
        "2 + 3"
      ],
      "metadata": {
        "colab": {
          "base_uri": "https://localhost:8080/",
          "height": 0
        },
        "id": "xpuPnAISafYq",
        "outputId": "018073fa-61a2-4a8f-f2c2-c30f6f4d6711"
      },
      "execution_count": 41,
      "outputs": [
        {
          "output_type": "execute_result",
          "data": {
            "text/plain": [
              "5"
            ]
          },
          "metadata": {},
          "execution_count": 41
        }
      ]
    },
    {
      "cell_type": "code",
      "source": [
        "# Multiplication\n",
        "3 * 2"
      ],
      "metadata": {
        "colab": {
          "base_uri": "https://localhost:8080/",
          "height": 0
        },
        "id": "K9_PJsJmaht0",
        "outputId": "72281d9f-0f1b-468d-ef6a-f7eed6cf7bdc"
      },
      "execution_count": 42,
      "outputs": [
        {
          "output_type": "execute_result",
          "data": {
            "text/plain": [
              "6"
            ]
          },
          "metadata": {},
          "execution_count": 42
        }
      ]
    },
    {
      "cell_type": "code",
      "source": [
        "3 * 3.2"
      ],
      "metadata": {
        "colab": {
          "base_uri": "https://localhost:8080/",
          "height": 0
        },
        "id": "upSj5_pIal_7",
        "outputId": "4e269a64-a97c-4d31-ae67-2656317f6668"
      },
      "execution_count": 43,
      "outputs": [
        {
          "output_type": "execute_result",
          "data": {
            "text/plain": [
              "9.600000000000001"
            ]
          },
          "metadata": {},
          "execution_count": 43
        }
      ]
    },
    {
      "cell_type": "code",
      "source": [
        "# Powers\n",
        "3 ** 2"
      ],
      "metadata": {
        "colab": {
          "base_uri": "https://localhost:8080/",
          "height": 0
        },
        "id": "0h48-uRSat1b",
        "outputId": "2fb7a236-ba0e-408a-94d7-34d3669549aa"
      },
      "execution_count": 44,
      "outputs": [
        {
          "output_type": "execute_result",
          "data": {
            "text/plain": [
              "9"
            ]
          },
          "metadata": {},
          "execution_count": 44
        }
      ]
    },
    {
      "cell_type": "code",
      "source": [
        "# Modulus operator\n",
        "7%4"
      ],
      "metadata": {
        "colab": {
          "base_uri": "https://localhost:8080/",
          "height": 0
        },
        "id": "4coqXh74azoz",
        "outputId": "b17d1267-7118-48c6-bf58-666ce7621df5"
      },
      "execution_count": 45,
      "outputs": [
        {
          "output_type": "execute_result",
          "data": {
            "text/plain": [
              "3"
            ]
          },
          "metadata": {},
          "execution_count": 45
        }
      ]
    },
    {
      "cell_type": "code",
      "source": [
        "# Division\n",
        "7/4"
      ],
      "metadata": {
        "colab": {
          "base_uri": "https://localhost:8080/",
          "height": 0
        },
        "id": "M8-RB-cVa-K8",
        "outputId": "541866d7-ae8a-4942-9602-69906804b085"
      },
      "execution_count": 46,
      "outputs": [
        {
          "output_type": "execute_result",
          "data": {
            "text/plain": [
              "1.75"
            ]
          },
          "metadata": {},
          "execution_count": 46
        }
      ]
    },
    {
      "cell_type": "code",
      "source": [
        "round (0.51)"
      ],
      "metadata": {
        "colab": {
          "base_uri": "https://localhost:8080/",
          "height": 0
        },
        "id": "B5b3ZYKgbQw5",
        "outputId": "7f7fe1df-8477-4dd5-d643-5c25c161fb54"
      },
      "execution_count": 47,
      "outputs": [
        {
          "output_type": "execute_result",
          "data": {
            "text/plain": [
              "1"
            ]
          },
          "metadata": {},
          "execution_count": 47
        }
      ]
    },
    {
      "cell_type": "code",
      "source": [
        "round (0.5)"
      ],
      "metadata": {
        "colab": {
          "base_uri": "https://localhost:8080/",
          "height": 0
        },
        "id": "j3hMiqWebZ9a",
        "outputId": "9a5e1ee5-9241-4e55-9153-95b7c425b9b3"
      },
      "execution_count": 48,
      "outputs": [
        {
          "output_type": "execute_result",
          "data": {
            "text/plain": [
              "0"
            ]
          },
          "metadata": {},
          "execution_count": 48
        }
      ]
    },
    {
      "cell_type": "code",
      "source": [
        "round(-.2)"
      ],
      "metadata": {
        "colab": {
          "base_uri": "https://localhost:8080/",
          "height": 0
        },
        "id": "iszqj2gRblUc",
        "outputId": "531c2c3b-8892-4cac-b52c-73a94c93d03f"
      },
      "execution_count": 49,
      "outputs": [
        {
          "output_type": "execute_result",
          "data": {
            "text/plain": [
              "0"
            ]
          },
          "metadata": {},
          "execution_count": 49
        }
      ]
    },
    {
      "cell_type": "code",
      "source": [
        "round(-.9)"
      ],
      "metadata": {
        "colab": {
          "base_uri": "https://localhost:8080/",
          "height": 0
        },
        "id": "GE7qSfSkbpD7",
        "outputId": "a7eb107d-893c-4369-f770-9dc711d3c71a"
      },
      "execution_count": 50,
      "outputs": [
        {
          "output_type": "execute_result",
          "data": {
            "text/plain": [
              "-1"
            ]
          },
          "metadata": {},
          "execution_count": 50
        }
      ]
    },
    {
      "cell_type": "code",
      "source": [
        "round (3.24 , 1)"
      ],
      "metadata": {
        "colab": {
          "base_uri": "https://localhost:8080/",
          "height": 0
        },
        "id": "yIUCOqYAbwAO",
        "outputId": "8e428cf4-5fd3-44ee-8ea9-0e44aeb9ceb8"
      },
      "execution_count": 51,
      "outputs": [
        {
          "output_type": "execute_result",
          "data": {
            "text/plain": [
              "3.2"
            ]
          },
          "metadata": {},
          "execution_count": 51
        }
      ]
    },
    {
      "cell_type": "code",
      "source": [
        "# To use the ceil, floor, and sqrt functions you'll need to import the math module."
      ],
      "metadata": {
        "id": "61ya1muVcAsx"
      },
      "execution_count": 52,
      "outputs": []
    },
    {
      "cell_type": "code",
      "source": [
        "from math import *\n",
        "ceil (3.2)"
      ],
      "metadata": {
        "colab": {
          "base_uri": "https://localhost:8080/",
          "height": 0
        },
        "id": "LPaulQLmcEOn",
        "outputId": "4254f27e-5d48-4c32-9501-3429cfd8857f"
      },
      "execution_count": 53,
      "outputs": [
        {
          "output_type": "execute_result",
          "data": {
            "text/plain": [
              "4"
            ]
          },
          "metadata": {},
          "execution_count": 53
        }
      ]
    },
    {
      "cell_type": "code",
      "source": [
        "floor (3.2)"
      ],
      "metadata": {
        "colab": {
          "base_uri": "https://localhost:8080/",
          "height": 0
        },
        "id": "ywWwBDj4cQes",
        "outputId": "8c4385e4-d499-43be-a67c-4df56348bdfe"
      },
      "execution_count": 54,
      "outputs": [
        {
          "output_type": "execute_result",
          "data": {
            "text/plain": [
              "3"
            ]
          },
          "metadata": {},
          "execution_count": 54
        }
      ]
    },
    {
      "cell_type": "code",
      "source": [
        "sqrt (3.2)"
      ],
      "metadata": {
        "colab": {
          "base_uri": "https://localhost:8080/",
          "height": 0
        },
        "id": "T0NyySDJcSPW",
        "outputId": "79db02b6-55bd-40ec-ceb3-baf1c10d1c6a"
      },
      "execution_count": 55,
      "outputs": [
        {
          "output_type": "execute_result",
          "data": {
            "text/plain": [
              "1.7888543819998317"
            ]
          },
          "metadata": {},
          "execution_count": 55
        }
      ]
    }
  ]
}