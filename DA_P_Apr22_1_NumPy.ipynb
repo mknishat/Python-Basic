{
  "cells": [
    {
      "cell_type": "markdown",
      "metadata": {
        "id": "o5mzc7iB3yFq"
      },
      "source": [
        "# Intro to NumPy (Numerical Python)\n",
        "Reference:  Chapter 2 of \"Python Data Science Handbook\" by Jake VanderPlas"
      ]
    },
    {
      "cell_type": "code",
      "execution_count": 1,
      "metadata": {
        "collapsed": true,
        "id": "cejAs1Ii3yFt"
      },
      "outputs": [],
      "source": [
        "import numpy as np"
      ]
    },
    {
      "cell_type": "markdown",
      "metadata": {
        "id": "9Oj05u3J3yFu"
      },
      "source": [
        "To see detailed documentation...\n",
        "\n",
        "`np?`"
      ]
    },
    {
      "cell_type": "code",
      "execution_count": 2,
      "metadata": {
        "collapsed": true,
        "id": "VgNG8ejf3yFv"
      },
      "outputs": [],
      "source": [
        "np?"
      ]
    },
    {
      "cell_type": "markdown",
      "metadata": {
        "id": "CbXfpeNB3yFv"
      },
      "source": [
        "## A single-dimensional array (vector)"
      ]
    },
    {
      "cell_type": "code",
      "execution_count": 3,
      "metadata": {
        "colab": {
          "base_uri": "https://localhost:8080/",
          "height": 0
        },
        "id": "uyWJLUeE3yFw",
        "outputId": "7d2c9652-b763-41ef-9dc6-c1f884472b8a"
      },
      "outputs": [
        {
          "output_type": "execute_result",
          "data": {
            "text/plain": [
              "array([1, 5, 7, 3, 2, 1])"
            ]
          },
          "metadata": {},
          "execution_count": 3
        }
      ],
      "source": [
        "# Create an integer array\n",
        "np.array([1, 5, 7, 3, 2, 1])"
      ]
    },
    {
      "cell_type": "code",
      "execution_count": 4,
      "metadata": {
        "colab": {
          "base_uri": "https://localhost:8080/",
          "height": 0
        },
        "id": "NNCQTJxL3yFx",
        "outputId": "f2f98c9a-185b-4a04-c4f1-0f110a899470"
      },
      "outputs": [
        {
          "output_type": "execute_result",
          "data": {
            "text/plain": [
              "array([1, 5, 7, 3, 2, 1])"
            ]
          },
          "metadata": {},
          "execution_count": 4
        }
      ],
      "source": [
        "# Or, use an existing Python list to create a numpy array:\n",
        "a = [1, 5, 7, 3, 2, 1]\n",
        "np.array(a)"
      ]
    },
    {
      "cell_type": "code",
      "execution_count": 5,
      "metadata": {
        "colab": {
          "base_uri": "https://localhost:8080/",
          "height": 0
        },
        "id": "zLg_7yQo3yFy",
        "outputId": "7cbeb0f8-49f1-40e9-cdc9-31148bc415db"
      },
      "outputs": [
        {
          "output_type": "execute_result",
          "data": {
            "text/plain": [
              "array([1. , 3.2, 5. ])"
            ]
          },
          "metadata": {},
          "execution_count": 5
        }
      ],
      "source": [
        "# What if we have a mix of ints and floats?\n",
        "# Each entry is \"upcasted\" (in this case, to floats)\n",
        "np.array([1, 3.2, 5])"
      ]
    },
    {
      "cell_type": "code",
      "execution_count": 6,
      "metadata": {
        "colab": {
          "base_uri": "https://localhost:8080/",
          "height": 0
        },
        "id": "jKX4cV583yFz",
        "outputId": "8dbdeb30-9330-4565-b11f-b2961d7ed5ee"
      },
      "outputs": [
        {
          "output_type": "execute_result",
          "data": {
            "text/plain": [
              "dtype('float64')"
            ]
          },
          "metadata": {},
          "execution_count": 6
        }
      ],
      "source": [
        "# Determine the datatype of the numpy array:\n",
        "b = np.array([1, 3.2, 5])\n",
        "b.dtype"
      ]
    },
    {
      "cell_type": "code",
      "execution_count": 7,
      "metadata": {
        "id": "itCiy_GY3yF0",
        "outputId": "64c18f30-c65a-469f-92cb-1b3331200eed",
        "colab": {
          "base_uri": "https://localhost:8080/",
          "height": 0
        }
      },
      "outputs": [
        {
          "output_type": "execute_result",
          "data": {
            "text/plain": [
              "1"
            ]
          },
          "metadata": {},
          "execution_count": 7
        }
      ],
      "source": [
        "# Or n-dimensional array (ndarray) has only 1 dimension...it's a vector:\n",
        "b.ndim"
      ]
    },
    {
      "cell_type": "code",
      "execution_count": 8,
      "metadata": {
        "id": "4LyZEfL_3yF1",
        "outputId": "d654df53-0a30-4dc6-ad70-c285d48045ec",
        "colab": {
          "base_uri": "https://localhost:8080/",
          "height": 0
        }
      },
      "outputs": [
        {
          "output_type": "execute_result",
          "data": {
            "text/plain": [
              "(3,)"
            ]
          },
          "metadata": {},
          "execution_count": 8
        }
      ],
      "source": [
        "# Since we only have one dimension, the shape will only show us the length of that dimesion:\n",
        "b.shape"
      ]
    },
    {
      "cell_type": "code",
      "execution_count": 9,
      "metadata": {
        "id": "y7FjtT883yF1",
        "outputId": "08492614-32cc-4618-921a-a6a89b384f56",
        "colab": {
          "base_uri": "https://localhost:8080/",
          "height": 0
        }
      },
      "outputs": [
        {
          "output_type": "execute_result",
          "data": {
            "text/plain": [
              "3"
            ]
          },
          "metadata": {},
          "execution_count": 9
        }
      ],
      "source": [
        "# It has 3 elements in it:\n",
        "b.size"
      ]
    },
    {
      "cell_type": "markdown",
      "metadata": {
        "id": "WgoudHe73yF2"
      },
      "source": [
        "## Multidimensional arrays (matrices)"
      ]
    },
    {
      "cell_type": "code",
      "execution_count": 10,
      "metadata": {
        "id": "wPDrU3vq3yF2",
        "outputId": "2096d252-6b22-4fbb-d850-ad081935052d",
        "colab": {
          "base_uri": "https://localhost:8080/",
          "height": 0
        }
      },
      "outputs": [
        {
          "output_type": "execute_result",
          "data": {
            "text/plain": [
              "array([[1, 2, 3],\n",
              "       [4, 5, 6]])"
            ]
          },
          "metadata": {},
          "execution_count": 10
        }
      ],
      "source": [
        "# We can create an ndarray with 2 rows and 3 columns:\n",
        "n = np.array( [ [1, 2, 3], [4, 5, 6] ])\n",
        "n"
      ]
    },
    {
      "cell_type": "code",
      "execution_count": 11,
      "metadata": {
        "id": "wvQHKZhl3yF3",
        "outputId": "a8a014d5-90db-47a4-894f-363e3dad6e4b",
        "colab": {
          "base_uri": "https://localhost:8080/",
          "height": 0
        }
      },
      "outputs": [
        {
          "output_type": "execute_result",
          "data": {
            "text/plain": [
              "2"
            ]
          },
          "metadata": {},
          "execution_count": 11
        }
      ],
      "source": [
        "# We can access row 1, column 2...\n",
        "n[0][1]"
      ]
    },
    {
      "cell_type": "code",
      "execution_count": 12,
      "metadata": {
        "id": "ZtN4J3A63yF3",
        "outputId": "43bbce39-ad78-4850-a177-1e80d9107bbd",
        "colab": {
          "base_uri": "https://localhost:8080/",
          "height": 0
        }
      },
      "outputs": [
        {
          "output_type": "execute_result",
          "data": {
            "text/plain": [
              "2"
            ]
          },
          "metadata": {},
          "execution_count": 12
        }
      ],
      "source": [
        "# But numpy also allows this syntax:\n",
        "n[0,1]"
      ]
    },
    {
      "cell_type": "code",
      "execution_count": 13,
      "metadata": {
        "id": "4cQ9XGPQ3yF4",
        "outputId": "587038f8-ffb6-4973-b911-b76fdf6cb7f1",
        "colab": {
          "base_uri": "https://localhost:8080/",
          "height": 0
        }
      },
      "outputs": [
        {
          "output_type": "execute_result",
          "data": {
            "text/plain": [
              "array([1, 2, 3])"
            ]
          },
          "metadata": {},
          "execution_count": 13
        }
      ],
      "source": [
        "# We can grab all of the data in row 1:\n",
        "n[0]"
      ]
    },
    {
      "cell_type": "code",
      "execution_count": 14,
      "metadata": {
        "id": "w-PeLDEj3yF4",
        "outputId": "52db2912-973e-49c9-899d-28ad506b042a",
        "colab": {
          "base_uri": "https://localhost:8080/",
          "height": 0
        }
      },
      "outputs": [
        {
          "output_type": "execute_result",
          "data": {
            "text/plain": [
              "array([1, 2, 3])"
            ]
          },
          "metadata": {},
          "execution_count": 14
        }
      ],
      "source": [
        "n[0,:]   # equivalent to previous line"
      ]
    },
    {
      "cell_type": "code",
      "execution_count": 15,
      "metadata": {
        "id": "YRteWL9e3yF4",
        "outputId": "4ecc542b-7b03-47d7-f3fc-02da509db5b1",
        "colab": {
          "base_uri": "https://localhost:8080/",
          "height": 0
        }
      },
      "outputs": [
        {
          "output_type": "execute_result",
          "data": {
            "text/plain": [
              "array([1, 2, 3])"
            ]
          },
          "metadata": {},
          "execution_count": 15
        }
      ],
      "source": [
        "n[0][:]   # equivalent to previous two lines"
      ]
    },
    {
      "cell_type": "code",
      "execution_count": 16,
      "metadata": {
        "id": "efSu6UiB3yF5",
        "outputId": "af430f3f-05d3-41d8-c00a-6b6b1e16a089",
        "colab": {
          "base_uri": "https://localhost:8080/",
          "height": 0
        }
      },
      "outputs": [
        {
          "output_type": "execute_result",
          "data": {
            "text/plain": [
              "array([[0., 0., 0., 0.],\n",
              "       [0., 0., 0., 0.],\n",
              "       [0., 0., 0., 0.]])"
            ]
          },
          "metadata": {},
          "execution_count": 16
        }
      ],
      "source": [
        "# Create a 3x4 array initialized with 0's:\n",
        "c = np.zeros((3,4))\n",
        "c"
      ]
    },
    {
      "cell_type": "code",
      "execution_count": 17,
      "metadata": {
        "id": "kOH2Eh_P3yF5",
        "outputId": "9b42091b-4de0-42e2-aaf1-09cffc91eb94",
        "colab": {
          "base_uri": "https://localhost:8080/",
          "height": 0
        }
      },
      "outputs": [
        {
          "output_type": "execute_result",
          "data": {
            "text/plain": [
              "dtype('float64')"
            ]
          },
          "metadata": {},
          "execution_count": 17
        }
      ],
      "source": [
        "# Note that it defaults to floats\n",
        "c.dtype"
      ]
    },
    {
      "cell_type": "code",
      "execution_count": 18,
      "metadata": {
        "colab": {
          "base_uri": "https://localhost:8080/",
          "height": 0
        },
        "id": "FD4qeb553yF5",
        "outputId": "d66643b9-95fb-4295-97ca-7b4dc6305098"
      },
      "outputs": [
        {
          "output_type": "execute_result",
          "data": {
            "text/plain": [
              "array([[0, 0, 0, 0],\n",
              "       [0, 0, 0, 0],\n",
              "       [0, 0, 0, 0]], dtype=int16)"
            ]
          },
          "metadata": {},
          "execution_count": 18
        }
      ],
      "source": [
        "# We can explicitly define the datatype to be integer:\n",
        "d = np.zeros((3,4), dtype=np.int16)\n",
        "d"
      ]
    },
    {
      "cell_type": "code",
      "execution_count": 19,
      "metadata": {
        "id": "TpZmRYCA3yF6",
        "outputId": "832e9f28-1c93-4389-eaee-b6f79d22aa17",
        "colab": {
          "base_uri": "https://localhost:8080/",
          "height": 0
        }
      },
      "outputs": [
        {
          "output_type": "execute_result",
          "data": {
            "text/plain": [
              "dtype('int16')"
            ]
          },
          "metadata": {},
          "execution_count": 19
        }
      ],
      "source": [
        "d.dtype"
      ]
    },
    {
      "cell_type": "code",
      "execution_count": 20,
      "metadata": {
        "collapsed": true,
        "id": "8rVQrGKu3yF6"
      },
      "outputs": [],
      "source": [
        "# What if we try to insert a float?\n",
        "d[0,0] = 3.8"
      ]
    },
    {
      "cell_type": "code",
      "execution_count": 21,
      "metadata": {
        "id": "0Hhwz8tT3yF6",
        "outputId": "88253ad7-b539-4361-eb1c-c23be2edec1c",
        "colab": {
          "base_uri": "https://localhost:8080/",
          "height": 0
        }
      },
      "outputs": [
        {
          "output_type": "execute_result",
          "data": {
            "text/plain": [
              "dtype('int16')"
            ]
          },
          "metadata": {},
          "execution_count": 21
        }
      ],
      "source": [
        "d.dtype"
      ]
    },
    {
      "cell_type": "code",
      "execution_count": 22,
      "metadata": {
        "colab": {
          "base_uri": "https://localhost:8080/",
          "height": 0
        },
        "id": "mz3c9itb3yF7",
        "outputId": "75fd6bc1-29d0-4fb5-acda-886042746f78"
      },
      "outputs": [
        {
          "output_type": "execute_result",
          "data": {
            "text/plain": [
              "array([[3, 0, 0, 0],\n",
              "       [0, 0, 0, 0],\n",
              "       [0, 0, 0, 0]], dtype=int16)"
            ]
          },
          "metadata": {},
          "execution_count": 22
        }
      ],
      "source": [
        "# Where did 3.4 go?\n",
        "d"
      ]
    },
    {
      "cell_type": "code",
      "execution_count": 23,
      "metadata": {
        "id": "Yb8dcyKw3yF7",
        "outputId": "8360f135-119c-4881-ac08-f86e1615b1fa",
        "colab": {
          "base_uri": "https://localhost:8080/",
          "height": 0
        }
      },
      "outputs": [
        {
          "output_type": "execute_result",
          "data": {
            "text/plain": [
              "array([[1., 1., 1., 1., 1.],\n",
              "       [1., 1., 1., 1., 1.],\n",
              "       [1., 1., 1., 1., 1.],\n",
              "       [1., 1., 1., 1., 1.]])"
            ]
          },
          "metadata": {},
          "execution_count": 23
        }
      ],
      "source": [
        "# Create a 4x5 array of 1's:\n",
        "np.ones((4,5))"
      ]
    },
    {
      "cell_type": "code",
      "execution_count": 24,
      "metadata": {
        "id": "P_JHPWp73yF7",
        "outputId": "45c937d1-2c74-4b05-f3e0-b1434face3ba",
        "colab": {
          "base_uri": "https://localhost:8080/",
          "height": 0
        }
      },
      "outputs": [
        {
          "output_type": "execute_result",
          "data": {
            "text/plain": [
              "array([10, 11, 12, 13, 14, 15, 16, 17, 18, 19])"
            ]
          },
          "metadata": {},
          "execution_count": 24
        }
      ],
      "source": [
        "# Use \"arange\":\n",
        "np.arange(10, 20)"
      ]
    },
    {
      "cell_type": "code",
      "execution_count": 25,
      "metadata": {
        "id": "zBL4q0123yF7",
        "outputId": "7e618ec1-9148-497d-defd-1823fb992a05",
        "colab": {
          "base_uri": "https://localhost:8080/",
          "height": 0
        }
      },
      "outputs": [
        {
          "output_type": "execute_result",
          "data": {
            "text/plain": [
              "array([10, 12, 14, 16, 18])"
            ]
          },
          "metadata": {},
          "execution_count": 25
        }
      ],
      "source": [
        "np.arange(10, 20, 2)                 # Starting at 10, skip by 2, continue up to 20-1"
      ]
    },
    {
      "cell_type": "code",
      "execution_count": 26,
      "metadata": {
        "id": "sPuWqdjl3yF8",
        "outputId": "03a1915c-3a2d-43ae-b43a-3c84064253fd",
        "colab": {
          "base_uri": "https://localhost:8080/",
          "height": 0
        }
      },
      "outputs": [
        {
          "output_type": "execute_result",
          "data": {
            "text/plain": [
              "array([0.   , 0.375, 0.75 , 1.125, 1.5  , 1.875, 2.25 , 2.625, 3.   ])"
            ]
          },
          "metadata": {},
          "execution_count": 26
        }
      ],
      "source": [
        "np.linspace( 0, 3, 9 )                 # 9 numbers from 0 to 3"
      ]
    },
    {
      "cell_type": "code",
      "execution_count": 27,
      "metadata": {
        "id": "Nv8qtKPH3yF8",
        "outputId": "9afc3bf7-3acb-4727-c060-32456d421b68",
        "colab": {
          "base_uri": "https://localhost:8080/",
          "height": 0
        }
      },
      "outputs": [
        {
          "output_type": "execute_result",
          "data": {
            "text/plain": [
              "array([[9.72, 9.72, 9.72, 9.72],\n",
              "       [9.72, 9.72, 9.72, 9.72]])"
            ]
          },
          "metadata": {},
          "execution_count": 27
        }
      ],
      "source": [
        "# Populate a 2x4 array with 9.72 as the value everywhere:\n",
        "np.full((2,4), 9.72)"
      ]
    },
    {
      "cell_type": "code",
      "execution_count": 28,
      "metadata": {
        "id": "K6verXX13yF8",
        "outputId": "e477444d-6b23-4a04-fb9a-8f110f9c0170",
        "colab": {
          "base_uri": "https://localhost:8080/",
          "height": 0
        }
      },
      "outputs": [
        {
          "output_type": "execute_result",
          "data": {
            "text/plain": [
              "array([[0.09859415, 0.42619156, 0.99293517],\n",
              "       [0.94713508, 0.06483504, 0.1075727 ],\n",
              "       [0.99754499, 0.44650097, 0.29326434]])"
            ]
          },
          "metadata": {},
          "execution_count": 28
        }
      ],
      "source": [
        "# Create a 3x3 array of uniformly distributed\n",
        "# random values between 0 and 1\n",
        "np.random.random((3,3))"
      ]
    },
    {
      "cell_type": "code",
      "execution_count": 29,
      "metadata": {
        "id": "dZwAq6B53yF8",
        "outputId": "b69ed990-874f-4dab-8500-32b653349c68",
        "colab": {
          "base_uri": "https://localhost:8080/",
          "height": 0
        }
      },
      "outputs": [
        {
          "output_type": "execute_result",
          "data": {
            "text/plain": [
              "array([[-0.44518363, -1.22674058,  0.86166523],\n",
              "       [ 0.96132298, -0.25938158, -0.2612799 ],\n",
              "       [ 0.28917722,  1.62419456, -0.8715957 ]])"
            ]
          },
          "metadata": {},
          "execution_count": 29
        }
      ],
      "source": [
        "# Create a 3x3 array of normally distributed\n",
        "# random values with mean 0 and std. dev. 1\n",
        "np.random.normal(0, 1, (3,3))"
      ]
    },
    {
      "cell_type": "code",
      "execution_count": 30,
      "metadata": {
        "id": "Mcy8zX263yF9",
        "outputId": "664fcce3-eb59-4c76-93bc-113f9cf3313d",
        "colab": {
          "base_uri": "https://localhost:8080/",
          "height": 0
        }
      },
      "outputs": [
        {
          "output_type": "execute_result",
          "data": {
            "text/plain": [
              "array([[ 9.24060436,  8.58838752, 13.61089954],\n",
              "       [10.11407723,  9.29874865,  8.54399087],\n",
              "       [11.78794932, 11.34864688, 12.93250814]])"
            ]
          },
          "metadata": {},
          "execution_count": 30
        }
      ],
      "source": [
        "# Create a 3x3 array of normally distributed\n",
        "# random values with mean 10 and std. dev. 2\n",
        "np.random.normal(10, 2, (3,3))"
      ]
    },
    {
      "cell_type": "code",
      "execution_count": 31,
      "metadata": {
        "id": "G-7tPlOs3yF9",
        "outputId": "a380ee3b-68f8-4d06-871c-56c2c442297d",
        "colab": {
          "base_uri": "https://localhost:8080/",
          "height": 0
        }
      },
      "outputs": [
        {
          "output_type": "execute_result",
          "data": {
            "text/plain": [
              "array([[1., 0., 0.],\n",
              "       [0., 1., 0.],\n",
              "       [0., 0., 1.]])"
            ]
          },
          "metadata": {},
          "execution_count": 31
        }
      ],
      "source": [
        "# Create a 3x3 identity matrix\n",
        "np.eye(3)"
      ]
    },
    {
      "cell_type": "code",
      "execution_count": 32,
      "metadata": {
        "id": "SvOsfjdf3yF9",
        "outputId": "d1818f4a-c43d-4681-cf30-7f90ee731b8d",
        "colab": {
          "base_uri": "https://localhost:8080/",
          "height": 0
        }
      },
      "outputs": [
        {
          "output_type": "execute_result",
          "data": {
            "text/plain": [
              "array([[ 7, 11,  5],\n",
              "       [ 5, 14, 14],\n",
              "       [ 9, 14,  5]])"
            ]
          },
          "metadata": {},
          "execution_count": 32
        }
      ],
      "source": [
        "# Create a 3x3 array of random integers \n",
        "# in the interval [5,15)\n",
        "np.random.randint(5, 15, (3,3))"
      ]
    },
    {
      "cell_type": "code",
      "execution_count": 33,
      "metadata": {
        "colab": {
          "base_uri": "https://localhost:8080/",
          "height": 0
        },
        "id": "CdJK3Y693yF9",
        "outputId": "e85a93f0-e670-4a1e-a6a1-b76335200619"
      },
      "outputs": [
        {
          "output_type": "execute_result",
          "data": {
            "text/plain": [
              "array([5, 0, 3, 3, 7, 9])"
            ]
          },
          "metadata": {},
          "execution_count": 33
        }
      ],
      "source": [
        "# Use a seed to reproduce random numbers\n",
        "np.random.seed(0)\n",
        "\n",
        "# 1-dimensional array with integer values in range [0,10)\n",
        "np.random.randint(10, size=6)"
      ]
    },
    {
      "cell_type": "code",
      "execution_count": 34,
      "metadata": {
        "id": "jTasEbze3yF-",
        "outputId": "54f9ab22-21b1-4445-c95a-0b1372763da2",
        "colab": {
          "base_uri": "https://localhost:8080/",
          "height": 0
        }
      },
      "outputs": [
        {
          "output_type": "execute_result",
          "data": {
            "text/plain": [
              "array([[3, 5, 2, 4],\n",
              "       [7, 6, 8, 8],\n",
              "       [1, 6, 7, 7]])"
            ]
          },
          "metadata": {},
          "execution_count": 34
        }
      ],
      "source": [
        "# 2-dimensional array with integer values in range [0,10)\n",
        "np.random.randint(10, size=(3, 4))"
      ]
    },
    {
      "cell_type": "code",
      "execution_count": 35,
      "metadata": {
        "id": "GS10YbMl3yF-",
        "outputId": "ea8732f9-7d53-435e-8cf5-486ab3b3c9df",
        "colab": {
          "base_uri": "https://localhost:8080/",
          "height": 0
        }
      },
      "outputs": [
        {
          "output_type": "execute_result",
          "data": {
            "text/plain": [
              "array([[[8, 1, 5, 9, 8],\n",
              "        [9, 4, 3, 0, 3],\n",
              "        [5, 0, 2, 3, 8],\n",
              "        [1, 3, 3, 3, 7]],\n",
              "\n",
              "       [[0, 1, 9, 9, 0],\n",
              "        [4, 7, 3, 2, 7],\n",
              "        [2, 0, 0, 4, 5],\n",
              "        [5, 6, 8, 4, 1]],\n",
              "\n",
              "       [[4, 9, 8, 1, 1],\n",
              "        [7, 9, 9, 3, 6],\n",
              "        [7, 2, 0, 3, 5],\n",
              "        [9, 4, 4, 6, 4]]])"
            ]
          },
          "metadata": {},
          "execution_count": 35
        }
      ],
      "source": [
        "# 3-dimensional ...\n",
        "np.random.randint(10, size=(3, 4, 5))"
      ]
    },
    {
      "cell_type": "code",
      "execution_count": 36,
      "metadata": {
        "id": "WJvPaPsZ3yF-",
        "outputId": "904251f5-0941-4f58-a8e0-2ed7b12251f1",
        "colab": {
          "base_uri": "https://localhost:8080/",
          "height": 0
        }
      },
      "outputs": [
        {
          "output_type": "execute_result",
          "data": {
            "text/plain": [
              "array([[[4, 3, 4],\n",
              "        [4, 8, 4],\n",
              "        [3, 7, 5],\n",
              "        [5, 0, 1]],\n",
              "\n",
              "       [[5, 9, 3],\n",
              "        [0, 5, 0],\n",
              "        [1, 2, 4],\n",
              "        [2, 0, 3]],\n",
              "\n",
              "       [[2, 0, 7],\n",
              "        [5, 9, 0],\n",
              "        [2, 7, 2],\n",
              "        [9, 2, 3]],\n",
              "\n",
              "       [[3, 2, 3],\n",
              "        [4, 1, 2],\n",
              "        [9, 1, 4],\n",
              "        [6, 8, 2]],\n",
              "\n",
              "       [[3, 0, 0],\n",
              "        [6, 0, 6],\n",
              "        [3, 3, 8],\n",
              "        [8, 8, 2]]])"
            ]
          },
          "metadata": {},
          "execution_count": 36
        }
      ],
      "source": [
        "np.random.randint(10, size=(5, 4, 3))"
      ]
    },
    {
      "cell_type": "markdown",
      "metadata": {
        "id": "ddgUBigM3yF-"
      },
      "source": [
        "## Accessing individual elements"
      ]
    },
    {
      "cell_type": "code",
      "execution_count": 37,
      "metadata": {
        "id": "qRPHBHoo3yF-",
        "outputId": "aca4afd2-978a-4c45-e1e9-c55f9b5f18ee",
        "colab": {
          "base_uri": "https://localhost:8080/",
          "height": 0
        }
      },
      "outputs": [
        {
          "output_type": "execute_result",
          "data": {
            "text/plain": [
              "array([ 0,  1,  2,  3,  4,  5,  6,  7,  8,  9, 10, 11, 12, 13, 14])"
            ]
          },
          "metadata": {},
          "execution_count": 37
        }
      ],
      "source": [
        "a = np.arange(15)\n",
        "a"
      ]
    },
    {
      "cell_type": "code",
      "execution_count": 38,
      "metadata": {
        "id": "dKPTyXJO3yF_",
        "outputId": "c4ba147d-68ad-4554-9869-c522e0ec751f",
        "colab": {
          "base_uri": "https://localhost:8080/",
          "height": 0
        }
      },
      "outputs": [
        {
          "output_type": "execute_result",
          "data": {
            "text/plain": [
              "2"
            ]
          },
          "metadata": {},
          "execution_count": 38
        }
      ],
      "source": [
        "# Get the 3rd element:\n",
        "a[2]"
      ]
    },
    {
      "cell_type": "code",
      "execution_count": 39,
      "metadata": {
        "id": "JlZ2SJ9R3yF_",
        "outputId": "37b73c61-0c99-4647-b1e1-3bf1f1d81914",
        "colab": {
          "base_uri": "https://localhost:8080/",
          "height": 0
        }
      },
      "outputs": [
        {
          "output_type": "execute_result",
          "data": {
            "text/plain": [
              "14"
            ]
          },
          "metadata": {},
          "execution_count": 39
        }
      ],
      "source": [
        "# Get the last element:\n",
        "a[-1]"
      ]
    },
    {
      "cell_type": "code",
      "execution_count": 40,
      "metadata": {
        "id": "Kh2wr4Oc3yF_",
        "outputId": "a14600eb-1a6c-4a91-b961-b9a324cfdfcc",
        "colab": {
          "base_uri": "https://localhost:8080/",
          "height": 0
        }
      },
      "outputs": [
        {
          "output_type": "execute_result",
          "data": {
            "text/plain": [
              "13"
            ]
          },
          "metadata": {},
          "execution_count": 40
        }
      ],
      "source": [
        "# Get the 2nd to last element:\n",
        "a[-2]"
      ]
    },
    {
      "cell_type": "code",
      "execution_count": 41,
      "metadata": {
        "id": "saiGtCTg3yF_",
        "outputId": "15362f79-81a7-4d5b-fc98-86bc6522c1fe",
        "colab": {
          "base_uri": "https://localhost:8080/",
          "height": 0
        }
      },
      "outputs": [
        {
          "output_type": "execute_result",
          "data": {
            "text/plain": [
              "array([[ 8,  7,  5, 13],\n",
              "       [13,  8, 13,  7],\n",
              "       [13,  9,  8,  5]])"
            ]
          },
          "metadata": {},
          "execution_count": 41
        }
      ],
      "source": [
        "b = np.random.randint(5, 15, (3,4))\n",
        "b"
      ]
    },
    {
      "cell_type": "code",
      "execution_count": 42,
      "metadata": {
        "id": "XXv44tiO3yGA",
        "outputId": "d0f99901-ef63-4876-db12-64e9b62360c0",
        "colab": {
          "base_uri": "https://localhost:8080/",
          "height": 0
        }
      },
      "outputs": [
        {
          "output_type": "execute_result",
          "data": {
            "text/plain": [
              "5"
            ]
          },
          "metadata": {},
          "execution_count": 42
        }
      ],
      "source": [
        "b[2,3]"
      ]
    },
    {
      "cell_type": "markdown",
      "metadata": {
        "id": "oFFICBH53yGA"
      },
      "source": [
        "## Array Slices"
      ]
    },
    {
      "cell_type": "code",
      "execution_count": 43,
      "metadata": {
        "id": "fkIQkws83yGA",
        "outputId": "40533e70-89a6-4b73-f1ef-7164af65f046",
        "colab": {
          "base_uri": "https://localhost:8080/",
          "height": 0
        }
      },
      "outputs": [
        {
          "output_type": "execute_result",
          "data": {
            "text/plain": [
              "array([ 0,  1,  2,  3,  4,  5,  6,  7,  8,  9, 10, 11, 12, 13, 14])"
            ]
          },
          "metadata": {},
          "execution_count": 43
        }
      ],
      "source": [
        "a = np.arange(15)\n",
        "a"
      ]
    },
    {
      "cell_type": "code",
      "execution_count": 44,
      "metadata": {
        "id": "313avlJj3yGA",
        "outputId": "7019eaf4-a593-40b6-f263-9251aa289ca2",
        "colab": {
          "base_uri": "https://localhost:8080/",
          "height": 0
        }
      },
      "outputs": [
        {
          "output_type": "execute_result",
          "data": {
            "text/plain": [
              "array([0, 1, 2])"
            ]
          },
          "metadata": {},
          "execution_count": 44
        }
      ],
      "source": [
        "# Get the first 3 elements of a:\n",
        "a[:3]"
      ]
    },
    {
      "cell_type": "code",
      "execution_count": 45,
      "metadata": {
        "id": "wTe9RPV93yGA",
        "outputId": "23278a1b-a262-43f4-f703-db5b2c69a003",
        "colab": {
          "base_uri": "https://localhost:8080/",
          "height": 0
        }
      },
      "outputs": [
        {
          "output_type": "execute_result",
          "data": {
            "text/plain": [
              "array([12, 13, 14])"
            ]
          },
          "metadata": {},
          "execution_count": 45
        }
      ],
      "source": [
        "# Get the last 3 elements:\n",
        "a[-3:]"
      ]
    },
    {
      "cell_type": "code",
      "execution_count": 46,
      "metadata": {
        "id": "tLzgc5li3yGA",
        "outputId": "b323bc52-c516-4ba2-e717-f76e30fe209a",
        "colab": {
          "base_uri": "https://localhost:8080/",
          "height": 0
        }
      },
      "outputs": [
        {
          "output_type": "execute_result",
          "data": {
            "text/plain": [
              "array([ 3,  4,  5,  6,  7,  8,  9, 10, 11, 12, 13, 14])"
            ]
          },
          "metadata": {},
          "execution_count": 46
        }
      ],
      "source": [
        "# Get the elements from index 3 forward:\n",
        "a[3:]"
      ]
    },
    {
      "cell_type": "code",
      "execution_count": 47,
      "metadata": {
        "id": "vhBC3yob3yGB",
        "outputId": "fc2cc224-f482-4ba6-d5c5-5d93eff45fba",
        "colab": {
          "base_uri": "https://localhost:8080/",
          "height": 0
        }
      },
      "outputs": [
        {
          "output_type": "execute_result",
          "data": {
            "text/plain": [
              "array([2, 3, 4])"
            ]
          },
          "metadata": {},
          "execution_count": 47
        }
      ],
      "source": [
        "# Something in the middle:\n",
        "a[2:5]"
      ]
    },
    {
      "cell_type": "code",
      "execution_count": 48,
      "metadata": {
        "id": "m2VvcZNE3yGB",
        "outputId": "01ba6d9d-2335-43ac-f916-b2b78fc788b9",
        "colab": {
          "base_uri": "https://localhost:8080/",
          "height": 0
        }
      },
      "outputs": [
        {
          "output_type": "execute_result",
          "data": {
            "text/plain": [
              "array([ 4,  6,  8, 10, 12, 14])"
            ]
          },
          "metadata": {},
          "execution_count": 48
        }
      ],
      "source": [
        "# Every other element, starting with index 4:\n",
        "a[4::2]"
      ]
    },
    {
      "cell_type": "code",
      "execution_count": 49,
      "metadata": {
        "id": "Ee1u3Plx3yGB",
        "outputId": "bf7cf94d-0045-432d-c510-1eece1c06699",
        "colab": {
          "base_uri": "https://localhost:8080/",
          "height": 0
        }
      },
      "outputs": [
        {
          "output_type": "execute_result",
          "data": {
            "text/plain": [
              "array([14, 13, 12, 11, 10,  9,  8,  7,  6,  5,  4,  3,  2,  1,  0])"
            ]
          },
          "metadata": {},
          "execution_count": 49
        }
      ],
      "source": [
        "# Reverse the array:\n",
        "a[::-1]"
      ]
    },
    {
      "cell_type": "code",
      "execution_count": 50,
      "metadata": {
        "id": "2TrKJ_Jv3yGB",
        "outputId": "fe7838dd-344f-405a-be97-05a20d11073f",
        "colab": {
          "base_uri": "https://localhost:8080/",
          "height": 0
        }
      },
      "outputs": [
        {
          "output_type": "execute_result",
          "data": {
            "text/plain": [
              "array([10,  8,  6,  4,  2,  0])"
            ]
          },
          "metadata": {},
          "execution_count": 50
        }
      ],
      "source": [
        "# Get every other element, starting at index 10 and counting backwards by 2:\n",
        "a[10::-2]"
      ]
    },
    {
      "cell_type": "code",
      "execution_count": 51,
      "metadata": {
        "id": "My2S7HRk3yGC",
        "outputId": "b5d7a408-6cb2-4f80-d0d1-a430bd77ec89",
        "colab": {
          "base_uri": "https://localhost:8080/",
          "height": 0
        }
      },
      "outputs": [
        {
          "output_type": "execute_result",
          "data": {
            "text/plain": [
              "array([10,  8,  6])"
            ]
          },
          "metadata": {},
          "execution_count": 51
        }
      ],
      "source": [
        "# Get every other element, starting at index 10, counting backwards by 2, and stopping before index 4:\n",
        "a[10:4:-2]      # [start : end : decrement]"
      ]
    },
    {
      "cell_type": "code",
      "execution_count": 52,
      "metadata": {
        "id": "O1xIfJMG3yGC",
        "outputId": "0f953336-251b-4f84-cc01-5167ba02be4c",
        "colab": {
          "base_uri": "https://localhost:8080/",
          "height": 0
        }
      },
      "outputs": [
        {
          "output_type": "execute_result",
          "data": {
            "text/plain": [
              "array([4, 6, 8])"
            ]
          },
          "metadata": {},
          "execution_count": 52
        }
      ],
      "source": [
        "a[4:10:2]"
      ]
    },
    {
      "cell_type": "markdown",
      "metadata": {
        "id": "KnR3WpFE3yGC"
      },
      "source": [
        "## Multidimensional Slices"
      ]
    },
    {
      "cell_type": "code",
      "execution_count": 53,
      "metadata": {
        "id": "pdMmLBod3yGC",
        "outputId": "82bc3679-4587-4b45-df7c-eee80703849b",
        "colab": {
          "base_uri": "https://localhost:8080/",
          "height": 0
        }
      },
      "outputs": [
        {
          "output_type": "execute_result",
          "data": {
            "text/plain": [
              "array([[ 9,  8, 16, 27, 18, 16, 21],\n",
              "       [29, 34, 26, 30, 21, 24, 38],\n",
              "       [45, 37, 41, 11, 26, 36, 18],\n",
              "       [12, 29, 20, 46, 23, 45, 20]])"
            ]
          },
          "metadata": {},
          "execution_count": 53
        }
      ],
      "source": [
        "b = np.random.randint(5, 50, (4,7))\n",
        "b"
      ]
    },
    {
      "cell_type": "code",
      "execution_count": 54,
      "metadata": {
        "id": "rS5Cv4jB3yGD",
        "outputId": "17a548eb-8b8c-45c0-9c8b-7ab3d6b74a81",
        "colab": {
          "base_uri": "https://localhost:8080/",
          "height": 0
        }
      },
      "outputs": [
        {
          "output_type": "execute_result",
          "data": {
            "text/plain": [
              "array([ 8, 34, 37, 29])"
            ]
          },
          "metadata": {},
          "execution_count": 54
        }
      ],
      "source": [
        "# Get everything in the 2nd column:\n",
        "b[:, 1]"
      ]
    },
    {
      "cell_type": "code",
      "execution_count": 55,
      "metadata": {
        "id": "7OHc8Ryn3yGD",
        "outputId": "e1a2800d-f944-4037-d192-246ebe4faf27",
        "colab": {
          "base_uri": "https://localhost:8080/",
          "height": 0
        }
      },
      "outputs": [
        {
          "output_type": "execute_result",
          "data": {
            "text/plain": [
              "array([45, 37, 41, 11, 26, 36, 18])"
            ]
          },
          "metadata": {},
          "execution_count": 55
        }
      ],
      "source": [
        "# Get everything in the 3rd row:\n",
        "b[2, :]"
      ]
    },
    {
      "cell_type": "code",
      "execution_count": 56,
      "metadata": {
        "id": "U_qD-lDi3yGD",
        "outputId": "ba40e013-5bb8-4c8e-ec7c-df1db89b19b8",
        "colab": {
          "base_uri": "https://localhost:8080/",
          "height": 0
        }
      },
      "outputs": [
        {
          "output_type": "execute_result",
          "data": {
            "text/plain": [
              "array([[ 9,  8, 16, 27],\n",
              "       [29, 34, 26, 30]])"
            ]
          },
          "metadata": {},
          "execution_count": 56
        }
      ],
      "source": [
        "# Get the first 2 rows and the first 4 columns\n",
        "b[:2, :4]"
      ]
    },
    {
      "cell_type": "code",
      "execution_count": 57,
      "metadata": {
        "id": "2gCHTP9p3yGD",
        "outputId": "a699f300-d5b1-435c-bf2e-9ab28ac9cc2e",
        "colab": {
          "base_uri": "https://localhost:8080/",
          "height": 0
        }
      },
      "outputs": [
        {
          "output_type": "execute_result",
          "data": {
            "text/plain": [
              "array([[ 9,  8, 16, 27],\n",
              "       [45, 37, 41, 11]])"
            ]
          },
          "metadata": {},
          "execution_count": 57
        }
      ],
      "source": [
        "# Get every other row, starting with row 0.  Also get the first 4 columns\n",
        "b[::2, :4]"
      ]
    },
    {
      "cell_type": "code",
      "execution_count": 58,
      "metadata": {
        "id": "gZxQnxNk3yGE",
        "outputId": "a503bdc8-a150-4e9d-e7ab-89b6c88aa0b9",
        "colab": {
          "base_uri": "https://localhost:8080/",
          "height": 0
        }
      },
      "outputs": [
        {
          "output_type": "execute_result",
          "data": {
            "text/plain": [
              "array([[29, 34, 26, 30],\n",
              "       [12, 29, 20, 46]])"
            ]
          },
          "metadata": {},
          "execution_count": 58
        }
      ],
      "source": [
        "# Get every other row, starting with row 1.  Also get the first 4 columns\n",
        "b[1::2, :4]"
      ]
    },
    {
      "cell_type": "code",
      "execution_count": 59,
      "metadata": {
        "id": "inNj5LtP3yGE",
        "outputId": "70d23124-d06e-4114-9daf-2b302a06b628",
        "colab": {
          "base_uri": "https://localhost:8080/",
          "height": 0
        }
      },
      "outputs": [
        {
          "output_type": "execute_result",
          "data": {
            "text/plain": [
              "array([[21, 16, 18, 27, 16,  8,  9],\n",
              "       [38, 24, 21, 30, 26, 34, 29],\n",
              "       [18, 36, 26, 11, 41, 37, 45],\n",
              "       [20, 45, 23, 46, 20, 29, 12]])"
            ]
          },
          "metadata": {},
          "execution_count": 59
        }
      ],
      "source": [
        "# Reverse the colums (but keep the rows unchanged):\n",
        "b[:, ::-1]"
      ]
    },
    {
      "cell_type": "markdown",
      "metadata": {
        "id": "fb50Bjwz3yGE"
      },
      "source": [
        "## Updating Array Slices\n",
        "\n",
        "**Caution**:  If you make changes to a slice, it also changes the original array.\n",
        "\n",
        "- Why might this be useful?"
      ]
    },
    {
      "cell_type": "code",
      "execution_count": 60,
      "metadata": {
        "id": "WPgFn3uA3yGE",
        "outputId": "54e10c26-84fd-4159-f8b1-07015048e4fb",
        "colab": {
          "base_uri": "https://localhost:8080/",
          "height": 0
        }
      },
      "outputs": [
        {
          "output_type": "execute_result",
          "data": {
            "text/plain": [
              "array([[16, 43, 34,  6, 36, 49, 29],\n",
              "       [29,  8, 23,  8, 47, 17, 43],\n",
              "       [40, 27, 10, 28, 48, 37, 16],\n",
              "       [45, 25, 15, 48, 42, 33, 45]])"
            ]
          },
          "metadata": {},
          "execution_count": 60
        }
      ],
      "source": [
        "b = np.random.randint(5, 50, (4,7))\n",
        "b"
      ]
    },
    {
      "cell_type": "code",
      "execution_count": 61,
      "metadata": {
        "id": "ExmZPp_V3yGE",
        "outputId": "bec05a5f-f5e4-47f1-8982-6abc2e53e90d",
        "colab": {
          "base_uri": "https://localhost:8080/",
          "height": 0
        }
      },
      "outputs": [
        {
          "output_type": "execute_result",
          "data": {
            "text/plain": [
              "array([[16, 43],\n",
              "       [29,  8]])"
            ]
          },
          "metadata": {},
          "execution_count": 61
        }
      ],
      "source": [
        "# Let's look at the 2x2 array in the NW corner:\n",
        "b_nw = b[:2, :2]\n",
        "b_nw"
      ]
    },
    {
      "cell_type": "code",
      "execution_count": 62,
      "metadata": {
        "id": "VvXl_P-33yGF",
        "outputId": "b97fcaae-4f4a-4a18-9dc9-191fdddb4690",
        "colab": {
          "base_uri": "https://localhost:8080/",
          "height": 0
        }
      },
      "outputs": [
        {
          "output_type": "execute_result",
          "data": {
            "text/plain": [
              "array([[111,  43],\n",
              "       [ 29,   8]])"
            ]
          },
          "metadata": {},
          "execution_count": 62
        }
      ],
      "source": [
        "# Suppose we change row 1, column 1:\n",
        "b_nw[0, 0] = 111\n",
        "b_nw"
      ]
    },
    {
      "cell_type": "code",
      "execution_count": 63,
      "metadata": {
        "id": "aqxLkuhT3yGF",
        "outputId": "4f4df36d-7baf-4348-c905-76ca247e469a",
        "colab": {
          "base_uri": "https://localhost:8080/",
          "height": 0
        }
      },
      "outputs": [
        {
          "output_type": "execute_result",
          "data": {
            "text/plain": [
              "array([[111,  43,  34,   6,  36,  49,  29],\n",
              "       [ 29,   8,  23,   8,  47,  17,  43],\n",
              "       [ 40,  27,  10,  28,  48,  37,  16],\n",
              "       [ 45,  25,  15,  48,  42,  33,  45]])"
            ]
          },
          "metadata": {},
          "execution_count": 63
        }
      ],
      "source": [
        "# Look at the original array:\n",
        "b"
      ]
    },
    {
      "cell_type": "code",
      "execution_count": 64,
      "metadata": {
        "id": "9HUfj-1q3yGF",
        "outputId": "c09cb37b-d211-42f8-a16d-8c609dec8201",
        "colab": {
          "base_uri": "https://localhost:8080/",
          "height": 0
        }
      },
      "outputs": [
        {
          "output_type": "execute_result",
          "data": {
            "text/plain": [
              "array([[111, -88],\n",
              "       [ 29,   8]])"
            ]
          },
          "metadata": {},
          "execution_count": 64
        }
      ],
      "source": [
        "# Suppose we change the original array:\n",
        "b[0,1] = -88\n",
        "b_nw\n",
        "# Note that this modified our sub-array"
      ]
    },
    {
      "cell_type": "code",
      "execution_count": 65,
      "metadata": {
        "id": "9tQEyrKW3yGF",
        "outputId": "f14f1e24-2afc-4514-f39b-62c4c03ed5aa",
        "colab": {
          "base_uri": "https://localhost:8080/",
          "height": 0
        }
      },
      "outputs": [
        {
          "output_type": "execute_result",
          "data": {
            "text/plain": [
              "array([[111, -88],\n",
              "       [  3,   3]])"
            ]
          },
          "metadata": {},
          "execution_count": 65
        }
      ],
      "source": [
        "# Now, suppose we modify several elements of our sub-array at once:\n",
        "b_nw[1,:] = 3\n",
        "b_nw"
      ]
    },
    {
      "cell_type": "code",
      "execution_count": 66,
      "metadata": {
        "id": "x9fIcwrG3yGG",
        "outputId": "15ed996e-4f06-4d54-d5aa-ec36efabb242",
        "colab": {
          "base_uri": "https://localhost:8080/",
          "height": 0
        }
      },
      "outputs": [
        {
          "output_type": "execute_result",
          "data": {
            "text/plain": [
              "array([[111, -88,  34,   6,  36,  49,  29],\n",
              "       [  3,   3,  23,   8,  47,  17,  43],\n",
              "       [ 40,  27,  10,  28,  48,  37,  16],\n",
              "       [ 45,  25,  15,  48,  42,  33,  45]])"
            ]
          },
          "metadata": {},
          "execution_count": 66
        }
      ],
      "source": [
        "b"
      ]
    },
    {
      "cell_type": "markdown",
      "metadata": {
        "id": "9CK4NaYi3yGG"
      },
      "source": [
        "## Copying Arrays"
      ]
    },
    {
      "cell_type": "code",
      "execution_count": 67,
      "metadata": {
        "id": "9LXHga2i3yGG",
        "outputId": "1f08763f-56e3-4091-e43e-9ce2be64a4d7",
        "colab": {
          "base_uri": "https://localhost:8080/",
          "height": 0
        }
      },
      "outputs": [
        {
          "output_type": "execute_result",
          "data": {
            "text/plain": [
              "array([[111, -88,  34,   6,  36,  49,  29],\n",
              "       [  3,   3,  23,   8,  47,  17,  43],\n",
              "       [ 40,  27,  10,  28,  48,  37,  16],\n",
              "       [ 45,  25,  15,  48,  42,  33,  45]])"
            ]
          },
          "metadata": {},
          "execution_count": 67
        }
      ],
      "source": [
        "b_copy = b.copy()\n",
        "b_copy"
      ]
    },
    {
      "cell_type": "code",
      "execution_count": 68,
      "metadata": {
        "id": "i5vt0oWM3yGG",
        "outputId": "07c53033-5b8d-4689-d57f-3caa4bf6f6f1",
        "colab": {
          "base_uri": "https://localhost:8080/",
          "height": 0
        }
      },
      "outputs": [
        {
          "output_type": "execute_result",
          "data": {
            "text/plain": [
              "array([[999, -88,  34,   6,  36,  49,  29],\n",
              "       [  3,   3,  23,   8,  47,  17,  43],\n",
              "       [ 40,  27,  10,  28,  48,  37,  16],\n",
              "       [ 45,  25,  15,  48,  42,  33,  45]])"
            ]
          },
          "metadata": {},
          "execution_count": 68
        }
      ],
      "source": [
        "b[0,0] = 999\n",
        "b"
      ]
    },
    {
      "cell_type": "code",
      "execution_count": 69,
      "metadata": {
        "id": "JXuaUHwJ3yGG",
        "outputId": "d887a39d-4747-489d-b934-127361636224",
        "colab": {
          "base_uri": "https://localhost:8080/",
          "height": 0
        }
      },
      "outputs": [
        {
          "output_type": "execute_result",
          "data": {
            "text/plain": [
              "array([[111, -88,  34,   6,  36,  49,  29],\n",
              "       [  3,   3,  23,   8,  47,  17,  43],\n",
              "       [ 40,  27,  10,  28,  48,  37,  16],\n",
              "       [ 45,  25,  15,  48,  42,  33,  45]])"
            ]
          },
          "metadata": {},
          "execution_count": 69
        }
      ],
      "source": [
        "b_copy"
      ]
    },
    {
      "cell_type": "markdown",
      "metadata": {
        "id": "Msmqzvca3yGH"
      },
      "source": [
        "## Reshaping Arrays"
      ]
    },
    {
      "cell_type": "code",
      "execution_count": 70,
      "metadata": {
        "id": "vQdeMcQQ3yGH",
        "outputId": "320435ca-c472-45a0-ef46-68f30e4c683f",
        "colab": {
          "base_uri": "https://localhost:8080/",
          "height": 0
        }
      },
      "outputs": [
        {
          "output_type": "execute_result",
          "data": {
            "text/plain": [
              "array([1, 2, 3, 4, 5, 6, 7, 8, 9])"
            ]
          },
          "metadata": {},
          "execution_count": 70
        }
      ],
      "source": [
        "c = np.arange(1,10)\n",
        "c"
      ]
    },
    {
      "cell_type": "code",
      "execution_count": 71,
      "metadata": {
        "id": "X-5aZS0u3yGH",
        "outputId": "ab09d8e0-4ea0-4cec-e211-3723849565c6",
        "colab": {
          "base_uri": "https://localhost:8080/",
          "height": 0
        }
      },
      "outputs": [
        {
          "output_type": "execute_result",
          "data": {
            "text/plain": [
              "array([[1, 2, 3],\n",
              "       [4, 5, 6],\n",
              "       [7, 8, 9]])"
            ]
          },
          "metadata": {},
          "execution_count": 71
        }
      ],
      "source": [
        "# Explicitly provide the new shape:\n",
        "c.reshape(3,3)"
      ]
    },
    {
      "cell_type": "code",
      "execution_count": 72,
      "metadata": {
        "id": "DiHtHfdy3yGH",
        "outputId": "8be05759-8c3b-4723-8216-b3c03ec6f42a",
        "colab": {
          "base_uri": "https://localhost:8080/",
          "height": 0
        }
      },
      "outputs": [
        {
          "output_type": "execute_result",
          "data": {
            "text/plain": [
              "array([[1, 2, 3],\n",
              "       [4, 5, 6],\n",
              "       [7, 8, 9]])"
            ]
          },
          "metadata": {},
          "execution_count": 72
        }
      ],
      "source": [
        "# Provide the size of one dimension and let numpy determine the size of the other:\n",
        "c.reshape(3,-1)"
      ]
    },
    {
      "cell_type": "code",
      "execution_count": 73,
      "metadata": {
        "id": "05SryPFu3yGH",
        "outputId": "cec42b7f-4256-48d9-82b9-c8ef9aa217b7",
        "colab": {
          "base_uri": "https://localhost:8080/",
          "height": 0
        }
      },
      "outputs": [
        {
          "output_type": "execute_result",
          "data": {
            "text/plain": [
              "array([[1],\n",
              "       [2],\n",
              "       [3],\n",
              "       [4],\n",
              "       [5],\n",
              "       [6],\n",
              "       [7],\n",
              "       [8],\n",
              "       [9]])"
            ]
          },
          "metadata": {},
          "execution_count": 73
        }
      ],
      "source": [
        "# Convert a row vector to a column vector:\n",
        "c.reshape(-1, 1)"
      ]
    },
    {
      "cell_type": "code",
      "execution_count": 74,
      "metadata": {
        "id": "cOWJ-3ux3yGI",
        "outputId": "92822011-6bf2-4b2e-8cc6-7d5015f5374a",
        "colab": {
          "base_uri": "https://localhost:8080/",
          "height": 0
        }
      },
      "outputs": [
        {
          "output_type": "execute_result",
          "data": {
            "text/plain": [
              "array([[1],\n",
              "       [2],\n",
              "       [3],\n",
              "       [4],\n",
              "       [5],\n",
              "       [6],\n",
              "       [7],\n",
              "       [8],\n",
              "       [9]])"
            ]
          },
          "metadata": {},
          "execution_count": 74
        }
      ],
      "source": [
        "# Or, use \"newaxis\" to do the same thing:\n",
        "d = c[:, np.newaxis]\n",
        "d"
      ]
    },
    {
      "cell_type": "code",
      "execution_count": 75,
      "metadata": {
        "id": "cPE3nVpX3yGI",
        "outputId": "5778858e-00aa-43a8-d512-f2e2f191a93d",
        "colab": {
          "base_uri": "https://localhost:8080/",
          "height": 0
        }
      },
      "outputs": [
        {
          "output_type": "execute_result",
          "data": {
            "text/plain": [
              "(9, 1)"
            ]
          },
          "metadata": {},
          "execution_count": 75
        }
      ],
      "source": [
        "d.shape"
      ]
    },
    {
      "cell_type": "markdown",
      "metadata": {
        "id": "i11d_w8g3yGI"
      },
      "source": [
        "## Concatenate Arrays"
      ]
    },
    {
      "cell_type": "code",
      "execution_count": 76,
      "metadata": {
        "id": "-k00_Z-w3yGI",
        "outputId": "7206e8ed-902e-43bd-b83b-cff120a4b5a2",
        "colab": {
          "base_uri": "https://localhost:8080/",
          "height": 0
        }
      },
      "outputs": [
        {
          "output_type": "execute_result",
          "data": {
            "text/plain": [
              "array([1, 2, 3, 7, 8, 9, 4, 5, 6])"
            ]
          },
          "metadata": {},
          "execution_count": 76
        }
      ],
      "source": [
        "# Single-dimensional arrays:\n",
        "x = np.array([1, 2, 3])\n",
        "y = np.array([4, 5, 6])\n",
        "z = np.array([7, 8, 9])\n",
        "np.concatenate([x, z, y])"
      ]
    },
    {
      "cell_type": "code",
      "execution_count": 77,
      "metadata": {
        "id": "-Al8QwvE3yGI"
      },
      "outputs": [],
      "source": [
        "# Multi-dimensional arrays:\n",
        "X = np.ones((2, 3))\n",
        "Y = np.full((3,3), 5)"
      ]
    },
    {
      "cell_type": "code",
      "execution_count": 78,
      "metadata": {
        "id": "Hwd63zwq3yGJ",
        "outputId": "8a1abbe7-ef59-48fe-8d98-883351ab9ec6",
        "colab": {
          "base_uri": "https://localhost:8080/",
          "height": 0
        }
      },
      "outputs": [
        {
          "output_type": "execute_result",
          "data": {
            "text/plain": [
              "array([[1., 1., 1.],\n",
              "       [1., 1., 1.]])"
            ]
          },
          "metadata": {},
          "execution_count": 78
        }
      ],
      "source": [
        "X"
      ]
    },
    {
      "cell_type": "code",
      "execution_count": 79,
      "metadata": {
        "id": "qCuqduiU3yGJ",
        "outputId": "4dacfe37-6b2c-4718-970c-ba11630445f3",
        "colab": {
          "base_uri": "https://localhost:8080/",
          "height": 0
        }
      },
      "outputs": [
        {
          "output_type": "execute_result",
          "data": {
            "text/plain": [
              "array([[5, 5, 5],\n",
              "       [5, 5, 5],\n",
              "       [5, 5, 5]])"
            ]
          },
          "metadata": {},
          "execution_count": 79
        }
      ],
      "source": [
        "Y"
      ]
    },
    {
      "cell_type": "code",
      "execution_count": 80,
      "metadata": {
        "id": "7VSmGcpR3yGJ",
        "outputId": "4ecb9fe6-3f73-4b71-e359-f0cfa121e2c9",
        "colab": {
          "base_uri": "https://localhost:8080/",
          "height": 0
        }
      },
      "outputs": [
        {
          "output_type": "execute_result",
          "data": {
            "text/plain": [
              "array([[1., 1., 1.],\n",
              "       [1., 1., 1.],\n",
              "       [5., 5., 5.],\n",
              "       [5., 5., 5.],\n",
              "       [5., 5., 5.]])"
            ]
          },
          "metadata": {},
          "execution_count": 80
        }
      ],
      "source": [
        "# By default, this will concatenate on the \"first (index 0)\" axis (rows)\n",
        "# NOTE:  In this case, X and Y must have the same number of columns\n",
        "np.concatenate([X, Y])"
      ]
    },
    {
      "cell_type": "code",
      "execution_count": 81,
      "metadata": {
        "id": "2mEbcAQx3yGJ",
        "outputId": "2d22e902-8159-4518-87be-fd2423ba6d40",
        "colab": {
          "base_uri": "https://localhost:8080/",
          "height": 235
        }
      },
      "outputs": [
        {
          "output_type": "error",
          "ename": "ValueError",
          "evalue": "ignored",
          "traceback": [
            "\u001b[0;31m---------------------------------------------------------------------------\u001b[0m",
            "\u001b[0;31mValueError\u001b[0m                                Traceback (most recent call last)",
            "\u001b[0;32m<ipython-input-81-1ddc587b6ada>\u001b[0m in \u001b[0;36m<module>\u001b[0;34m()\u001b[0m\n\u001b[1;32m      1\u001b[0m \u001b[0;31m# We can concatenate on the \"second (index 1)\" axis (columns),\u001b[0m\u001b[0;34m\u001b[0m\u001b[0;34m\u001b[0m\u001b[0;34m\u001b[0m\u001b[0m\n\u001b[1;32m      2\u001b[0m \u001b[0;31m# but we get an error here because X and Y have differing numbers of rows:\u001b[0m\u001b[0;34m\u001b[0m\u001b[0;34m\u001b[0m\u001b[0;34m\u001b[0m\u001b[0m\n\u001b[0;32m----> 3\u001b[0;31m \u001b[0mnp\u001b[0m\u001b[0;34m.\u001b[0m\u001b[0mconcatenate\u001b[0m\u001b[0;34m(\u001b[0m\u001b[0;34m[\u001b[0m\u001b[0mX\u001b[0m\u001b[0;34m,\u001b[0m \u001b[0mY\u001b[0m\u001b[0;34m]\u001b[0m\u001b[0;34m,\u001b[0m \u001b[0maxis\u001b[0m\u001b[0;34m=\u001b[0m\u001b[0;36m1\u001b[0m\u001b[0;34m)\u001b[0m\u001b[0;34m\u001b[0m\u001b[0;34m\u001b[0m\u001b[0m\n\u001b[0m",
            "\u001b[0;32m<__array_function__ internals>\u001b[0m in \u001b[0;36mconcatenate\u001b[0;34m(*args, **kwargs)\u001b[0m\n",
            "\u001b[0;31mValueError\u001b[0m: all the input array dimensions for the concatenation axis must match exactly, but along dimension 0, the array at index 0 has size 2 and the array at index 1 has size 3"
          ]
        }
      ],
      "source": [
        "# We can concatenate on the \"second (index 1)\" axis (columns),\n",
        "# but we get an error here because X and Y have differing numbers of rows:\n",
        "np.concatenate([X, Y], axis=1)"
      ]
    },
    {
      "cell_type": "code",
      "execution_count": 83,
      "metadata": {
        "id": "c5hmY2sq3yGK",
        "outputId": "68b5ba85-1cde-4346-d1c9-25d2ab21da7c",
        "colab": {
          "base_uri": "https://localhost:8080/",
          "height": 0
        }
      },
      "outputs": [
        {
          "output_type": "execute_result",
          "data": {
            "text/plain": [
              "array([[7, 7, 7, 7, 7],\n",
              "       [7, 7, 7, 7, 7]])"
            ]
          },
          "metadata": {},
          "execution_count": 83
        }
      ],
      "source": [
        "Z = np.full((2,5), 7)\n",
        "Z"
      ]
    },
    {
      "cell_type": "code",
      "execution_count": 84,
      "metadata": {
        "id": "E5-DAjwl3yGK",
        "outputId": "a4c35876-6880-443c-b0fa-bc4a6d1987c2",
        "colab": {
          "base_uri": "https://localhost:8080/",
          "height": 0
        }
      },
      "outputs": [
        {
          "output_type": "execute_result",
          "data": {
            "text/plain": [
              "array([[1., 1., 1., 7., 7., 7., 7., 7.],\n",
              "       [1., 1., 1., 7., 7., 7., 7., 7.]])"
            ]
          },
          "metadata": {},
          "execution_count": 84
        }
      ],
      "source": [
        "np.concatenate([X,Z], axis=1)"
      ]
    },
    {
      "cell_type": "markdown",
      "metadata": {
        "id": "IRETdARn3yGK"
      },
      "source": [
        "### `hstack` and `vstack`"
      ]
    },
    {
      "cell_type": "code",
      "execution_count": 85,
      "metadata": {
        "id": "ORzt_5u43yGK",
        "outputId": "3f5ee754-5f45-493f-fe07-96358a6999c2",
        "colab": {
          "base_uri": "https://localhost:8080/",
          "height": 0
        }
      },
      "outputs": [
        {
          "output_type": "execute_result",
          "data": {
            "text/plain": [
              "array([[1., 1., 1.],\n",
              "       [1., 1., 1.],\n",
              "       [5., 5., 5.],\n",
              "       [5., 5., 5.],\n",
              "       [5., 5., 5.]])"
            ]
          },
          "metadata": {},
          "execution_count": 85
        }
      ],
      "source": [
        "# Vertical stack\n",
        "np.vstack([X, Y])"
      ]
    },
    {
      "cell_type": "code",
      "execution_count": 86,
      "metadata": {
        "id": "93kIqpVX3yGK",
        "outputId": "1f43603c-1897-4cc1-edf4-3707348455a3",
        "colab": {
          "base_uri": "https://localhost:8080/",
          "height": 0
        }
      },
      "outputs": [
        {
          "output_type": "execute_result",
          "data": {
            "text/plain": [
              "array([[1., 1., 1., 7., 7., 7., 7., 7.],\n",
              "       [1., 1., 1., 7., 7., 7., 7., 7.]])"
            ]
          },
          "metadata": {},
          "execution_count": 86
        }
      ],
      "source": [
        "# Horizontal stack\n",
        "np.hstack([X, Z])"
      ]
    },
    {
      "cell_type": "markdown",
      "metadata": {
        "id": "ZOrGL9Gt3yGM"
      },
      "source": [
        "## Arithmetic"
      ]
    },
    {
      "cell_type": "code",
      "execution_count": 87,
      "metadata": {
        "id": "qY66nGO03yGM",
        "outputId": "78a8c9a4-92be-4b73-8a76-d30c0eb0e014",
        "colab": {
          "base_uri": "https://localhost:8080/",
          "height": 0
        }
      },
      "outputs": [
        {
          "output_type": "execute_result",
          "data": {
            "text/plain": [
              "array([[-3, -2,  4,  2,  0]])"
            ]
          },
          "metadata": {},
          "execution_count": 87
        }
      ],
      "source": [
        "x = np.random.randint(-5,5, (1,5))\n",
        "x"
      ]
    },
    {
      "cell_type": "code",
      "execution_count": 88,
      "metadata": {
        "id": "OCK3Y7EU3yGM",
        "outputId": "386ed896-10c2-4d7a-d607-97138005b60b",
        "colab": {
          "base_uri": "https://localhost:8080/",
          "height": 0
        }
      },
      "outputs": [
        {
          "output_type": "execute_result",
          "data": {
            "text/plain": [
              "array([[13, 14, 15, 13, 13]])"
            ]
          },
          "metadata": {},
          "execution_count": 88
        }
      ],
      "source": [
        "y = np.random.randint(10,20, (1,5))\n",
        "y"
      ]
    },
    {
      "cell_type": "code",
      "execution_count": 89,
      "metadata": {
        "id": "iD3C6sqV3yGM",
        "outputId": "73f9b742-eb7f-4528-a842-01a5fc7b711a",
        "colab": {
          "base_uri": "https://localhost:8080/",
          "height": 0
        }
      },
      "outputs": [
        {
          "output_type": "execute_result",
          "data": {
            "text/plain": [
              "array([[2, 3, 9, 7, 5]])"
            ]
          },
          "metadata": {},
          "execution_count": 89
        }
      ],
      "source": [
        "# Add 5 to every element of x:\n",
        "x + 5"
      ]
    },
    {
      "cell_type": "code",
      "execution_count": 90,
      "metadata": {
        "id": "4-WFhKrI3yGN",
        "outputId": "a3dfc253-4627-4cf3-ed3c-e228d2ced4b6",
        "colab": {
          "base_uri": "https://localhost:8080/",
          "height": 0
        }
      },
      "outputs": [
        {
          "output_type": "execute_result",
          "data": {
            "text/plain": [
              "array([[10, 12, 19, 15, 13]])"
            ]
          },
          "metadata": {},
          "execution_count": 90
        }
      ],
      "source": [
        "# Add x and y:\n",
        "x + y"
      ]
    },
    {
      "cell_type": "code",
      "execution_count": 91,
      "metadata": {
        "id": "zMyssQS83yGN",
        "outputId": "65b6d0b4-cadb-4d21-e209-d9da020df698",
        "colab": {
          "base_uri": "https://localhost:8080/",
          "height": 0
        }
      },
      "outputs": [
        {
          "output_type": "execute_result",
          "data": {
            "text/plain": [
              "array([[ 9,  4, 16,  4,  0]])"
            ]
          },
          "metadata": {},
          "execution_count": 91
        }
      ],
      "source": [
        "# Square every element of x:\n",
        "x ** 2"
      ]
    },
    {
      "cell_type": "code",
      "execution_count": 92,
      "metadata": {
        "id": "fZI-Yob33yGN",
        "outputId": "965758b0-993c-4de3-cda6-13c2701bffe4",
        "colab": {
          "base_uri": "https://localhost:8080/",
          "height": 0
        }
      },
      "outputs": [
        {
          "output_type": "execute_result",
          "data": {
            "text/plain": [
              "array([[3, 2, 4, 2, 0]])"
            ]
          },
          "metadata": {},
          "execution_count": 92
        }
      ],
      "source": [
        "# Find the absolute values of each element of x:\n",
        "np.abs(x)"
      ]
    },
    {
      "cell_type": "code",
      "execution_count": 93,
      "metadata": {
        "id": "zwdgFWga3yGN",
        "outputId": "f1c95fe2-abad-4579-e19c-8d42bb1295ae",
        "colab": {
          "base_uri": "https://localhost:8080/",
          "height": 0
        }
      },
      "outputs": [
        {
          "output_type": "execute_result",
          "data": {
            "text/plain": [
              "array([[-1.5, -1. ,  2. ,  1. ,  0. ]])"
            ]
          },
          "metadata": {},
          "execution_count": 93
        }
      ],
      "source": [
        "# Divide each element of x by 2:\n",
        "x / 2"
      ]
    },
    {
      "cell_type": "code",
      "execution_count": 94,
      "metadata": {
        "id": "f62Pg9ab3yGN",
        "outputId": "b339b1b5-7ac4-4611-a31c-57d7d132a156",
        "colab": {
          "base_uri": "https://localhost:8080/",
          "height": 0
        }
      },
      "outputs": [
        {
          "output_type": "execute_result",
          "data": {
            "text/plain": [
              "-3"
            ]
          },
          "metadata": {},
          "execution_count": 94
        }
      ],
      "source": [
        "# Find the min value of x:\n",
        "np.min(x)"
      ]
    },
    {
      "cell_type": "code",
      "execution_count": 95,
      "metadata": {
        "id": "mkhB7PcZ3yGO",
        "outputId": "2ff73cad-93e3-4de9-8091-86ab910ea279",
        "colab": {
          "base_uri": "https://localhost:8080/",
          "height": 0
        }
      },
      "outputs": [
        {
          "output_type": "execute_result",
          "data": {
            "text/plain": [
              "1"
            ]
          },
          "metadata": {},
          "execution_count": 95
        }
      ],
      "source": [
        "# Sum the values in x:\n",
        "np.sum(x)"
      ]
    },
    {
      "cell_type": "markdown",
      "metadata": {
        "id": "Z3Z22wVg3yGQ"
      },
      "source": [
        "## Comparison Operators"
      ]
    },
    {
      "cell_type": "code",
      "execution_count": 96,
      "metadata": {
        "id": "uHHieOWl3yGQ",
        "outputId": "bf058cef-3a2f-4a9a-a485-4e0e47786861",
        "colab": {
          "base_uri": "https://localhost:8080/",
          "height": 0
        }
      },
      "outputs": [
        {
          "output_type": "execute_result",
          "data": {
            "text/plain": [
              "array([1, 2, 3, 4, 5, 6, 7, 8, 9])"
            ]
          },
          "metadata": {},
          "execution_count": 96
        }
      ],
      "source": [
        "x = np.arange(1,10)\n",
        "x"
      ]
    },
    {
      "cell_type": "code",
      "execution_count": 97,
      "metadata": {
        "id": "3PgPh-YN3yGQ",
        "outputId": "5bbf2ad7-463a-4919-9ab6-dccc7ca17b80",
        "colab": {
          "base_uri": "https://localhost:8080/",
          "height": 0
        }
      },
      "outputs": [
        {
          "output_type": "execute_result",
          "data": {
            "text/plain": [
              "array([ True,  True,  True,  True, False, False, False, False, False])"
            ]
          },
          "metadata": {},
          "execution_count": 97
        }
      ],
      "source": [
        "x < 5"
      ]
    },
    {
      "cell_type": "code",
      "execution_count": 98,
      "metadata": {
        "id": "qTIr4lMR3yGQ",
        "outputId": "5a1a1000-13c2-4717-dbc2-5bb32c50757c",
        "colab": {
          "base_uri": "https://localhost:8080/",
          "height": 0
        }
      },
      "outputs": [
        {
          "output_type": "execute_result",
          "data": {
            "text/plain": [
              "array([ True,  True,  True, False,  True,  True,  True,  True,  True])"
            ]
          },
          "metadata": {},
          "execution_count": 98
        }
      ],
      "source": [
        "x != 4"
      ]
    },
    {
      "cell_type": "code",
      "execution_count": 99,
      "metadata": {
        "id": "pY3yOKqf3yGR",
        "outputId": "7ecab108-822a-4dba-a466-903b384d3bb9",
        "colab": {
          "base_uri": "https://localhost:8080/",
          "height": 0
        }
      },
      "outputs": [
        {
          "output_type": "execute_result",
          "data": {
            "text/plain": [
              "array([False, False, False, False, False,  True, False, False, False])"
            ]
          },
          "metadata": {},
          "execution_count": 99
        }
      ],
      "source": [
        "x == 6"
      ]
    },
    {
      "cell_type": "code",
      "execution_count": 100,
      "metadata": {
        "id": "frY3I_4a3yGR",
        "outputId": "079060ec-e9b0-4264-aa05-4c16b9c0a01e",
        "colab": {
          "base_uri": "https://localhost:8080/",
          "height": 0
        }
      },
      "outputs": [
        {
          "output_type": "execute_result",
          "data": {
            "text/plain": [
              "5"
            ]
          },
          "metadata": {},
          "execution_count": 100
        }
      ],
      "source": [
        "# How many elements are greater than 4?\n",
        "np.sum(x > 4)"
      ]
    },
    {
      "cell_type": "code",
      "execution_count": 101,
      "metadata": {
        "id": "w62BIdf-3yGR",
        "outputId": "a0a5671f-e4b2-4941-eddd-c8b84aa1e884",
        "colab": {
          "base_uri": "https://localhost:8080/",
          "height": 0
        }
      },
      "outputs": [
        {
          "output_type": "execute_result",
          "data": {
            "text/plain": [
              "True"
            ]
          },
          "metadata": {},
          "execution_count": 101
        }
      ],
      "source": [
        "# Are there any values greater than 5?\n",
        "np.any(x > 5)"
      ]
    },
    {
      "cell_type": "code",
      "execution_count": 102,
      "metadata": {
        "id": "WbIlzgv-3yGR",
        "outputId": "04074c2b-1b74-4c9d-f760-e12f2f4ae6f7",
        "colab": {
          "base_uri": "https://localhost:8080/",
          "height": 0
        }
      },
      "outputs": [
        {
          "output_type": "execute_result",
          "data": {
            "text/plain": [
              "False"
            ]
          },
          "metadata": {},
          "execution_count": 102
        }
      ],
      "source": [
        "# Are all values less than 8?\n",
        "np.all(x < 8)"
      ]
    },
    {
      "cell_type": "code",
      "execution_count": 103,
      "metadata": {
        "id": "tDG4RzoW3yGR",
        "outputId": "672dfe6f-638b-431e-9720-ace3d3ad6aa4",
        "colab": {
          "base_uri": "https://localhost:8080/",
          "height": 0
        }
      },
      "outputs": [
        {
          "output_type": "execute_result",
          "data": {
            "text/plain": [
              "35"
            ]
          },
          "metadata": {},
          "execution_count": 103
        }
      ],
      "source": [
        "# What is the sum of the elements greater than 4?\n",
        "np.sum(x[x > 4])"
      ]
    },
    {
      "cell_type": "code",
      "execution_count": 104,
      "metadata": {
        "id": "ulnTSGzd3yGS",
        "outputId": "104dd895-693d-4410-e4ff-bfbf62b06abf",
        "colab": {
          "base_uri": "https://localhost:8080/",
          "height": 0
        }
      },
      "outputs": [
        {
          "output_type": "execute_result",
          "data": {
            "text/plain": [
              "12"
            ]
          },
          "metadata": {},
          "execution_count": 104
        }
      ],
      "source": [
        "# What is the sum of the elements between 2 and 6?\n",
        "np.sum(x[(x > 2) & (x < 6)])          # The parenthesis here are required"
      ]
    },
    {
      "cell_type": "code",
      "execution_count": 105,
      "metadata": {
        "id": "yHqm-Ub03yGS",
        "outputId": "d66adb2f-ae17-4cdb-ad7e-269e2bf9edbb",
        "colab": {
          "base_uri": "https://localhost:8080/",
          "height": 0
        }
      },
      "outputs": [
        {
          "output_type": "execute_result",
          "data": {
            "text/plain": [
              "array([3, 4, 5])"
            ]
          },
          "metadata": {},
          "execution_count": 105
        }
      ],
      "source": [
        "# What are all of the elements between 2 and 6?\n",
        "x[(x > 2) & (x < 6)]          # The parenthesis here are required"
      ]
    },
    {
      "cell_type": "markdown",
      "metadata": {
        "id": "FRwODAnF3yGS"
      },
      "source": [
        "## Sorting arrays"
      ]
    },
    {
      "cell_type": "code",
      "execution_count": 106,
      "metadata": {
        "id": "jUm4Qdtz3yGT",
        "outputId": "fd5bd7e7-2975-4fcb-a9f1-1994ec670ce9",
        "colab": {
          "base_uri": "https://localhost:8080/",
          "height": 0
        }
      },
      "outputs": [
        {
          "output_type": "execute_result",
          "data": {
            "text/plain": [
              "array([9, 2, 1, 4, 7, 5])"
            ]
          },
          "metadata": {},
          "execution_count": 106
        }
      ],
      "source": [
        "x = np.array([9, 2, 1, 4, 7, 5])\n",
        "x"
      ]
    },
    {
      "cell_type": "code",
      "execution_count": 107,
      "metadata": {
        "id": "1fZeOxNp3yGT",
        "outputId": "65eea782-ab80-478d-a5a2-de451a3d9e7e",
        "colab": {
          "base_uri": "https://localhost:8080/",
          "height": 0
        }
      },
      "outputs": [
        {
          "output_type": "execute_result",
          "data": {
            "text/plain": [
              "array([1, 2, 4, 5, 7, 9])"
            ]
          },
          "metadata": {},
          "execution_count": 107
        }
      ],
      "source": [
        "np.sort(x)     # This doesn't actually change the ordering of x"
      ]
    },
    {
      "cell_type": "code",
      "execution_count": 108,
      "metadata": {
        "id": "UtItOvNr3yGT",
        "outputId": "12ba0b3d-152f-4f20-ed8a-5d5ad580a979",
        "colab": {
          "base_uri": "https://localhost:8080/",
          "height": 0
        }
      },
      "outputs": [
        {
          "output_type": "execute_result",
          "data": {
            "text/plain": [
              "array([9, 2, 1, 4, 7, 5])"
            ]
          },
          "metadata": {},
          "execution_count": 108
        }
      ],
      "source": [
        "x"
      ]
    },
    {
      "cell_type": "code",
      "execution_count": 109,
      "metadata": {
        "id": "G9CmmWkP3yGU",
        "outputId": "59376d1a-7c77-428c-dd2d-8bf18b9b4771",
        "colab": {
          "base_uri": "https://localhost:8080/",
          "height": 0
        }
      },
      "outputs": [
        {
          "output_type": "execute_result",
          "data": {
            "text/plain": [
              "array([1, 2, 4, 5, 7, 9])"
            ]
          },
          "metadata": {},
          "execution_count": 109
        }
      ],
      "source": [
        "# We can \"sort-in-place\":\n",
        "x.sort()\n",
        "x"
      ]
    },
    {
      "cell_type": "code",
      "execution_count": 110,
      "metadata": {
        "id": "EdIp_1YB3yGU",
        "outputId": "13d7707e-63b8-4181-a57e-aa7046f59020",
        "colab": {
          "base_uri": "https://localhost:8080/",
          "height": 0
        }
      },
      "outputs": [
        {
          "output_type": "execute_result",
          "data": {
            "text/plain": [
              "array([2, 1, 3, 5, 4, 0])"
            ]
          },
          "metadata": {},
          "execution_count": 110
        }
      ],
      "source": [
        "# It's often beneficial to know the indices:\n",
        "y = np.array([9, 2, 1, 4, 7, 5])\n",
        "np.argsort(y)"
      ]
    },
    {
      "cell_type": "code",
      "execution_count": 111,
      "metadata": {
        "id": "5G8JD0rf3yGU",
        "outputId": "9fef462c-7591-407f-a024-2a95d68417a1",
        "colab": {
          "base_uri": "https://localhost:8080/",
          "height": 0
        }
      },
      "outputs": [
        {
          "output_type": "execute_result",
          "data": {
            "text/plain": [
              "array([9, 7, 5, 4, 2, 1])"
            ]
          },
          "metadata": {},
          "execution_count": 111
        }
      ],
      "source": [
        "# Sort in descending order:\n",
        "y = np.array([9, 2, 1, 4, 7, 5])\n",
        "y[::-1].sort()    # This first sorts y in ascending order (.sort()) then reverses the array to become descending\n",
        "y"
      ]
    },
    {
      "cell_type": "markdown",
      "metadata": {
        "id": "PTqdSgND3yGV"
      },
      "source": [
        "### Sorting along rows or columns"
      ]
    },
    {
      "cell_type": "code",
      "execution_count": 112,
      "metadata": {
        "id": "eh5O6QW83yGV",
        "outputId": "7046fd6b-b6c2-4ac4-f9ed-ecf6b0c37ad1",
        "colab": {
          "base_uri": "https://localhost:8080/",
          "height": 0
        }
      },
      "outputs": [
        {
          "output_type": "execute_result",
          "data": {
            "text/plain": [
              "array([[ 9, 11, 11, 11],\n",
              "       [ 9,  5,  4,  5],\n",
              "       [11,  9,  9,  7]])"
            ]
          },
          "metadata": {},
          "execution_count": 112
        }
      ],
      "source": [
        "x = np.random.randint(2,12, (3,4))\n",
        "x"
      ]
    },
    {
      "cell_type": "code",
      "execution_count": 113,
      "metadata": {
        "id": "JBROXM1X3yGW",
        "outputId": "dab1c404-231f-413e-ccdc-d42dc7dcc0df",
        "colab": {
          "base_uri": "https://localhost:8080/",
          "height": 0
        }
      },
      "outputs": [
        {
          "output_type": "execute_result",
          "data": {
            "text/plain": [
              "array([[ 9,  5,  4,  5],\n",
              "       [ 9,  9,  9,  7],\n",
              "       [11, 11, 11, 11]])"
            ]
          },
          "metadata": {},
          "execution_count": 113
        }
      ],
      "source": [
        "# Sort each column:\n",
        "np.sort(x, axis=0)"
      ]
    },
    {
      "cell_type": "code",
      "execution_count": 114,
      "metadata": {
        "id": "-Yyjkdcu3yGW",
        "outputId": "704e6fc8-8de0-4e71-9750-40408e68573f",
        "colab": {
          "base_uri": "https://localhost:8080/",
          "height": 0
        }
      },
      "outputs": [
        {
          "output_type": "execute_result",
          "data": {
            "text/plain": [
              "array([[ 9, 11, 11, 11],\n",
              "       [ 4,  5,  5,  9],\n",
              "       [ 7,  9,  9, 11]])"
            ]
          },
          "metadata": {},
          "execution_count": 114
        }
      ],
      "source": [
        "# Sort each row:\n",
        "np.sort(x, axis=1)"
      ]
    },
    {
      "cell_type": "code",
      "execution_count": 115,
      "metadata": {
        "id": "7rAOMWLr3yGW",
        "outputId": "079f4564-da73-47ab-9789-550ecbfafe41",
        "colab": {
          "base_uri": "https://localhost:8080/",
          "height": 0
        }
      },
      "outputs": [
        {
          "output_type": "stream",
          "name": "stdout",
          "text": [
            "[[1 2 2]\n",
            " [8 1 5]\n",
            " [8 4 0]]\n",
            "\n",
            "\n",
            "[[8 1 5]\n",
            " [1 2 2]\n",
            " [8 4 0]]\n"
          ]
        }
      ],
      "source": [
        "# Sort an array by the nth column\n",
        "Z = np.random.randint(0,10,(3,3))\n",
        "print(Z)\n",
        "print(\"\\n\")\n",
        "print(Z[Z[:,1].argsort()])   # In this case, sort by the 2nd column"
      ]
    }
  ],
  "metadata": {
    "kernelspec": {
      "display_name": "Python 2",
      "language": "python",
      "name": "python2"
    },
    "language_info": {
      "codemirror_mode": {
        "name": "ipython",
        "version": 2
      },
      "file_extension": ".py",
      "mimetype": "text/x-python",
      "name": "python",
      "nbconvert_exporter": "python",
      "pygments_lexer": "ipython2",
      "version": "2.7.14"
    },
    "colab": {
      "name": "DA_P_Apr22_1_NumPy.ipynb",
      "provenance": [],
      "collapsed_sections": []
    }
  },
  "nbformat": 4,
  "nbformat_minor": 0
}